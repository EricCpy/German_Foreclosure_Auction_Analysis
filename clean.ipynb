{
 "cells": [
  {
   "cell_type": "code",
   "execution_count": 5,
   "metadata": {
    "vscode": {
     "languageId": "shellscript"
    }
   },
   "outputs": [
    {
     "name": "stderr",
     "output_type": "stream",
     "text": [
      "d:\\Zeug\\Unizeug\\Master_DataScience\\3.Semester\\Urban Technologies\\Project\\database_helpers.py:11: MovedIn20Warning: The ``declarative_base()`` function is now available as sqlalchemy.orm.declarative_base(). (deprecated since: 2.0) (Background on SQLAlchemy 2.0 at: https://sqlalche.me/e/b8d9)\n",
      "  Base = declarative_base()\n"
     ]
    }
   ],
   "source": [
    "!python database_helpers.py"
   ]
  },
  {
   "cell_type": "code",
   "execution_count": 6,
   "metadata": {},
   "outputs": [
    {
     "name": "stdout",
     "output_type": "stream",
     "text": [
      "<class 'pandas.core.frame.DataFrame'>\n",
      "RangeIndex: 4637 entries, 0 to 4636\n",
      "Data columns (total 15 columns):\n",
      " #   Column                   Non-Null Count  Dtype \n",
      "---  ------                   --------------  ----- \n",
      " 0   link                     4637 non-null   object\n",
      " 1   bundesland_code          4637 non-null   object\n",
      " 2   aktenzeichen             4637 non-null   object\n",
      " 3   letzte_aktualisierung    4637 non-null   object\n",
      " 4   art_der_versteigerung    4637 non-null   object\n",
      " 5   grundbuch                4273 non-null   object\n",
      " 6   objekt_lage              4637 non-null   object\n",
      " 7   beschreibung             4637 non-null   object\n",
      " 8   verkehrswert             4637 non-null   object\n",
      " 9   termin                   4637 non-null   int64 \n",
      " 10  ort_der_versteigerung    4637 non-null   object\n",
      " 11  amtliche_bekanntmachung  4519 non-null   object\n",
      " 12  exposee                  2111 non-null   object\n",
      " 13  gutachten                2353 non-null   object\n",
      " 14  foto                     1025 non-null   object\n",
      "dtypes: int64(1), object(14)\n",
      "memory usage: 543.5+ KB\n"
     ]
    }
   ],
   "source": [
    "import pandas as pd\n",
    "from database_helpers import ForeclosureCaseSchema, engine, session\n",
    "df = pd.read_sql(session.query(ForeclosureCaseSchema).statement, engine)\n",
    "df.info()"
   ]
  },
  {
   "cell_type": "code",
   "execution_count": null,
   "metadata": {},
   "outputs": [],
   "source": [
    "#    @model_validator(mode='before')\n",
    "#    def convert_verkehrswert(cls, values):\n",
    "#        verkehrswert_str = values.get('verkehrswert_in_€')\n",
    "#        \n",
    "#        if verkehrswert_str and isinstance(verkehrswert_str, str):\n",
    "#            # Handle cases where multiple values are separated by \":\"\n",
    "#            object_values = verkehrswert_str.split(':')\n",
    "#            total_value = 0.0\n",
    "#            \n",
    "#            for obj_value in object_values:\n",
    "#                # Only take strings that contain digits and end with \"€\"\n",
    "#                match = re.search(\n",
    "#                    r'(\\d+[.,\\d]*)\\s*€' if len(object_values) > 1 else r'(\\d+[.,\\d]*)',\n",
    "#                    obj_value\n",
    "#                )\n",
    "#                if match:\n",
    "#                    value_str = match.group(1)\n",
    "#                    # Remove any non-numeric characters except \",\" and \".\"\n",
    "#                    value_str = re.sub(r'[^\\d,.]', '', value_str).strip()\n",
    "#                    # Handle the German number format: 650.000,46 -> 650000.46\n",
    "#                    value_str = value_str.replace('.', '').replace(',', '.')\n",
    "#                    \n",
    "#                    try:\n",
    "#                        total_value += float(value_str)\n",
    "#                    except ValueError:\n",
    "#                        # Skip invalid float conversions\n",
    "#                        pass\n",
    "#\n",
    "#            values['verkehrswert_in_€'] = total_value\n",
    "#        \n",
    "#        return values"
   ]
  }
 ],
 "metadata": {
  "kernelspec": {
   "display_name": ".venv",
   "language": "python",
   "name": "python3"
  },
  "language_info": {
   "codemirror_mode": {
    "name": "ipython",
    "version": 3
   },
   "file_extension": ".py",
   "mimetype": "text/x-python",
   "name": "python",
   "nbconvert_exporter": "python",
   "pygments_lexer": "ipython3",
   "version": "3.12.6"
  }
 },
 "nbformat": 4,
 "nbformat_minor": 2
}
