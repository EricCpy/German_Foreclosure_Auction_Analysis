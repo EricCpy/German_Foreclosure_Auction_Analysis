{
 "cells": [
  {
   "cell_type": "code",
   "execution_count": null,
   "metadata": {},
   "outputs": [],
   "source": [
    "import pandas as pd\n",
    "df = pd.read_sql(session.query(ForeclosureCaseSchema).statement, engine)\n",
    "df.info()"
   ]
  },
  {
   "cell_type": "code",
   "execution_count": null,
   "metadata": {},
   "outputs": [],
   "source": [
    "    @model_validator(mode='before')\n",
    "    def convert_verkehrswert(cls, values):\n",
    "        verkehrswert_str = values.get('verkehrswert_in_€')\n",
    "        \n",
    "        if verkehrswert_str and isinstance(verkehrswert_str, str):\n",
    "            # Handle cases where multiple values are separated by \":\"\n",
    "            object_values = verkehrswert_str.split(':')\n",
    "            total_value = 0.0\n",
    "            \n",
    "            for obj_value in object_values:\n",
    "                # Only take strings that contain digits and end with \"€\"\n",
    "                match = re.search(\n",
    "                    r'(\\d+[.,\\d]*)\\s*€' if len(object_values) > 1 else r'(\\d+[.,\\d]*)',\n",
    "                    obj_value\n",
    "                )\n",
    "                if match:\n",
    "                    value_str = match.group(1)\n",
    "                    # Remove any non-numeric characters except \",\" and \".\"\n",
    "                    value_str = re.sub(r'[^\\d,.]', '', value_str).strip()\n",
    "                    # Handle the German number format: 650.000,46 -> 650000.46\n",
    "                    value_str = value_str.replace('.', '').replace(',', '.')\n",
    "                    \n",
    "                    try:\n",
    "                        total_value += float(value_str)\n",
    "                    except ValueError:\n",
    "                        # Skip invalid float conversions\n",
    "                        pass\n",
    "\n",
    "            values['verkehrswert_in_€'] = total_value\n",
    "        \n",
    "        return values"
   ]
  }
 ],
 "metadata": {
  "language_info": {
   "name": "python"
  }
 },
 "nbformat": 4,
 "nbformat_minor": 2
}
