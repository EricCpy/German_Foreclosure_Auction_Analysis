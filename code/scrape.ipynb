{
 "cells": [
  {
   "cell_type": "markdown",
   "metadata": {
    "vscode": {
     "languageId": "plaintext"
    }
   },
   "source": [
    "# Scraping Official German Government Website\n",
    "- Germany is divided into federal states, each containing districts (`Kreise`), and within each district is a local court (`Amtsgericht`) where foreclosure auctions (`Zwangsversteigerungen`) are conducted.\n",
    "- Each local court uploads foreclosure listings to the central portal [ZVG Portal](https://www.zvg-portal.de/index.php?button=Suchen&all=1), which provides an overview of the auctions.\n",
    "- Our data includes a variety of information, such as descriptions in text form, as well as PDFs like exposés, appraisals (`Gutachten`) and other documents.\n",
    "- We will evaluate the value these PDFs provide, focusing specifically on foreclosures in Berlin to see if including this information improves our model predictions. This includes exploring approaches like image-based regression or converting images into text.\n",
    "- Although other websites exist (e.g., [Versteigerungspool](https://versteigerungspool.de/), [Zwangsversteigerung.de](https://www.zwangsversteigerung.de/) or [ZVG-Online](https://www.zvg-online.net/)), they typically scrape the government site and offer a more stylized display with less information and less s. We will not scrape these sites, as they do not provide additional value beyond easier access to some parts of the data."
   ]
  },
  {
   "cell_type": "code",
   "execution_count": null,
   "metadata": {
    "vscode": {
     "languageId": "shellscript"
    }
   },
   "outputs": [],
   "source": [
    "!python database_helpers.py"
   ]
  },
  {
   "cell_type": "code",
   "execution_count": 2,
   "metadata": {},
   "outputs": [],
   "source": [
    "\n",
    "import requests \n",
    "from bs4 import BeautifulSoup\n",
    "from datetime import datetime\n",
    "import locale\n",
    "import logging\n",
    "import os\n",
    "from code.database_helpers import ForeclosureCaseSchema, ForeclosureCaseModel, engine, session\n",
    "\n",
    "locale.setlocale(locale.LC_TIME, 'de_DE')\n",
    "os.makedirs(\"logs\", exist_ok=True)\n",
    "logging.basicConfig(\n",
    "    filename=f\"../logs/foreclosure_scraper_{int(datetime.now().timestamp())}.log\",\n",
    "    level=logging.INFO,\n",
    "    format='%(asctime)s - %(levelname)s - %(message)s'\n",
    ")"
   ]
  },
  {
   "cell_type": "markdown",
   "metadata": {},
   "source": [
    "### Federal State Codes\n",
    "- We first retrieve the codes for each federal state. \n",
    "- While these are typically constants, we handle this dynamically in case any codes change, though such changes are rare."
   ]
  },
  {
   "cell_type": "code",
   "execution_count": 3,
   "metadata": {},
   "outputs": [],
   "source": [
    "url = \"https://www.zvg-portal.de/index.php?button=Termine%20suchen\"\n",
    "response = requests.get(url)\n",
    "search_soup = BeautifulSoup(response.text, 'html.parser')\n",
    "\n",
    "land_select = None\n",
    "for tr in search_soup.find_all('tr'):\n",
    "    if \"Land\" in tr.text:\n",
    "        land_select = tr.find_next('select')\n",
    "        break\n",
    "\n",
    "if not land_select:\n",
    "    print(\"Land select field not found.\")\n",
    "    exit()\n",
    "\n",
    "land_codes = [option['value'] for option in land_select.find_all('option') if option['value'] != \"0\"]"
   ]
  },
  {
   "cell_type": "markdown",
   "metadata": {},
   "source": [
    "### Foreclosure Auctions\n",
    "- We first retrieve the main site where all foreclosure listings are available. From there, links can be followed to the specific pages for each foreclosure.\n",
    "- On the foreclosure-specific page, certain details like the auction date (`Termin`) are consistently formatted.\n",
    "- However, many other fields, such as the property value (`Verkehrswert in €`), can vary. For instance, they might include multiple objects, like separate listings for land and house, even full descriptions or integer values.\n",
    "- Documents like the official announcement (`amtliche Bekanntmachung`), exposé, appraisal (`Gutachten`) and photos are provided in PDF format. We'll attempt to extract relevant information from these documents in the information extraction and cleaning notebook."
   ]
  },
  {
   "cell_type": "code",
   "execution_count": 3,
   "metadata": {},
   "outputs": [],
   "source": [
    "def get_foreclosure_case_data(link: str) -> ForeclosureCaseModel:\n",
    "    response = requests.get(link, headers={\"Referer\": \"https://www.zvg-portal.de/index.php?button=Suchen\"})\n",
    "    if not str(response.status_code).startswith(\"2\"):\n",
    "        raise Exception(f\"Request for {link} failed!\")\n",
    "    \n",
    "    soup = BeautifulSoup(response.text, 'html.parser')\n",
    "    \n",
    "    details_table = soup.find_all('table')[0]\n",
    "    rows = details_table.find_all('tr')\n",
    "    aktenzeichen = rows[0].find_all('td')[0].text.strip()\n",
    "    letzte_aktualisierung = rows[0].find_all('td')[1].text.strip()\n",
    "    \n",
    "    foreclosure_case = {\n",
    "        \"link\": link,\n",
    "        \"aktenzeichen\": aktenzeichen,\n",
    "        \"letzte_aktualisierung\": letzte_aktualisierung\n",
    "    }\n",
    "    \n",
    "    for row in rows[1:]:\n",
    "        key = row.find_all('td')[0].text.strip()[:-1].lower().replace(\" \", \"_\").replace(\"/\", \"_\")\n",
    "        if key in ForeclosureCaseModel.model_fields or key == \"verkehrswert_in_€\":\n",
    "            second_cell = row.find_all('td')[1]\n",
    "            anchor_tags = second_cell.find_all('a')\n",
    "            img_tags = second_cell.find_all('img')\n",
    "            if len(anchor_tags) == 1 and len(img_tags) == 1:\n",
    "                if key == \"foto\":\n",
    "                    foreclosure_case.setdefault('foto', []).append(anchor_tags[0]['href'].strip())\n",
    "                    continue\n",
    "                value = anchor_tags[0]['href'].strip()\n",
    "            else:\n",
    "                value = second_cell.text.strip()\n",
    "\n",
    "            foreclosure_case[key] = value\n",
    "    \n",
    "    return ForeclosureCaseModel(**foreclosure_case)"
   ]
  },
  {
   "cell_type": "code",
   "execution_count": 4,
   "metadata": {},
   "outputs": [
    {
     "name": "stdout",
     "output_type": "stream",
     "text": [
      "Working on bw:\n",
      "Added 0 new forclosures for bw.\n",
      "Working on by:\n",
      "Added 0 new forclosures for by.\n",
      "Working on be:\n",
      "Added 0 new forclosures for be.\n",
      "Working on br:\n",
      "Added 0 new forclosures for br.\n",
      "Working on hb:\n",
      "Added 0 new forclosures for hb.\n",
      "Working on hh:\n",
      "Working on he:\n",
      "Added 0 new forclosures for he.\n",
      "Working on mv:\n",
      "Working on ni:\n",
      "Added 0 new forclosures for ni.\n",
      "Working on nw:\n",
      "Added 0 new forclosures for nw.\n",
      "Working on rp:\n",
      "Added 0 new forclosures for rp.\n",
      "Working on sl:\n",
      "Added 0 new forclosures for sl.\n",
      "Working on sn:\n",
      "Added 0 new forclosures for sn.\n",
      "Working on st:\n",
      "Added 0 new forclosures for st.\n",
      "Working on sh:\n",
      "Working on th:\n",
      "Added 0 new forclosures for th.\n"
     ]
    }
   ],
   "source": [
    "for land_code in land_codes:\n",
    "    post_url = \"https://www.zvg-portal.de/index.php?button=Suchen&all=1\"\n",
    "    post_data = {\n",
    "        'ger_name': '--+Alle+Amtsgerichte+--',\n",
    "        'order_by': '2',\n",
    "        'land_abk': land_code,\n",
    "        'ger_id': '0'\n",
    "    }\n",
    "    \n",
    "    post_response = requests.post(post_url, data=post_data)\n",
    "    if not str(post_response.status_code).startswith(\"2\"):\n",
    "        logging.error(f\"Request for {land_code} failed! Status Code: {post_response.status_code}\")\n",
    "        continue\n",
    "    \n",
    "    print(f\"Working on {land_code}:\")\n",
    "    land_soup = BeautifulSoup(post_response.text, 'html.parser')\n",
    "    result_tables = land_soup.find_all('table')\n",
    "    if not result_tables or len(result_tables) < 2:\n",
    "        logging.info(f\"No foreclosure cases for {land_code}!\")\n",
    "        continue\n",
    "    \n",
    "    result_table = result_tables[1]\n",
    "    new_forclosures = 0\n",
    "    for tr in result_table.find_all('tr'):\n",
    "        tds = tr.find_all('td')\n",
    "        if len(tds) == 3 and tds[0].text.strip() == \"Aktenzeichen\":\n",
    "            if not tds[1].find('a'):\n",
    "                logging.info(f\"Foreclosure Case already expired!\")\n",
    "                continue\n",
    "            \n",
    "            link = tds[1].find('a')['href']\n",
    "            case_url = f\"https://www.zvg-portal.de/{link}\"\n",
    "            \n",
    "            if session.query(ForeclosureCaseSchema).filter_by(link=case_url).first():\n",
    "                logging.warning(f\"Foreclosure Case {case_url} already exists in the database!\")\n",
    "                continue\n",
    "            try:\n",
    "                foreclosure_case = get_foreclosure_case_data(case_url)\n",
    "            except Exception as e:\n",
    "                logging.error(f\"Error fetching foreclosure case {case_url}: {e}\")\n",
    "                continue\n",
    "            \n",
    "            forclosure_case_db = ForeclosureCaseSchema(**foreclosure_case.model_dump())\n",
    "            forclosure_case_db.bundesland_code = land_code\n",
    "            session.add(forclosure_case_db)\n",
    "            new_forclosures += 1\n",
    "\n",
    "    print(f\"Added {new_forclosures} new forclosures for {land_code}.\")\n",
    "    \n",
    "session.commit()"
   ]
  },
  {
   "cell_type": "code",
   "execution_count": 5,
   "metadata": {},
   "outputs": [],
   "source": [
    "session.close()\n",
    "engine.dispose()\n",
    "for handler in logging.getLogger().handlers:\n",
    "    handler.flush()\n",
    "    handler.close()"
   ]
  }
 ],
 "metadata": {
  "kernelspec": {
   "display_name": ".venv",
   "language": "python",
   "name": "python3"
  },
  "language_info": {
   "codemirror_mode": {
    "name": "ipython",
    "version": 3
   },
   "file_extension": ".py",
   "mimetype": "text/x-python",
   "name": "python",
   "nbconvert_exporter": "python",
   "pygments_lexer": "ipython3",
   "version": "3.12.6"
  }
 },
 "nbformat": 4,
 "nbformat_minor": 2
}
