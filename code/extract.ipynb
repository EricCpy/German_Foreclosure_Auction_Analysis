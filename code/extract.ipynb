{
 "cells": [
  {
   "cell_type": "code",
   "execution_count": 1,
   "metadata": {
    "vscode": {
     "languageId": "shellscript"
    }
   },
   "outputs": [
    {
     "name": "stderr",
     "output_type": "stream",
     "text": [
      "d:\\Zeug\\Unizeug\\Master_DataScience\\3.Semester\\Urban Technologies\\Project\\database_helpers.py:11: MovedIn20Warning: The ``declarative_base()`` function is now available as sqlalchemy.orm.declarative_base(). (deprecated since: 2.0) (Background on SQLAlchemy 2.0 at: https://sqlalche.me/e/b8d9)\n",
      "  Base = declarative_base()\n"
     ]
    }
   ],
   "source": [
    "!python database_helpers.py"
   ]
  },
  {
   "cell_type": "code",
   "execution_count": 2,
   "metadata": {},
   "outputs": [],
   "source": [
    "import pymupdf\n",
    "from typing import Optional\n",
    "from llama_cpp import LogitsProcessorList, Llama\n",
    "from lmformatenforcer import CharacterLevelParser\n",
    "from lmformatenforcer.integrations.llamacpp import build_llamacpp_logits_processor\n",
    "from IPython.display import display, Markdown\n",
    "from llama_cpp import Llama\n",
    "from lmformatenforcer import JsonSchemaParser\n",
    "from huggingface_hub import hf_hub_download\n",
    "from database_helpers import (\n",
    "    ForeclosureCaseSchema,\n",
    "    ForeclosureObjectSchema,\n",
    "    ForclosureModel,\n",
    "    engine,\n",
    "    session\n",
    ")\n",
    "import os\n",
    "import tempfile\n",
    "import requests"
   ]
  },
  {
   "cell_type": "code",
   "execution_count": 3,
   "metadata": {},
   "outputs": [],
   "source": [
    "DEFAULT_SYSTEM_PROMPT = \"\"\"\\\n",
    "You are a helpful, respectful and honest assistant. Always answer as helpfully as possible, while being safe. \n",
    "Your answers should not include any harmful, unethical, racist, sexist, toxic, dangerous, or illegal content. \n",
    "Please ensure that your responses are socially unbiased and positive in nature.\n",
    "\n",
    "If a question does not make any sense, or is not factually coherent, explain why instead of answering something not correct. \n",
    "If you don't know the answer to a question, please don't share false information.\n",
    "\"\"\"\n",
    "\n",
    "def get_prompt(message: str, system_prompt: str = DEFAULT_SYSTEM_PROMPT) -> str:\n",
    "    return f'[INST] <<SYS>>\\n{system_prompt}\\n<</SYS>>\\n\\n{message} [/INST]'\n",
    "\n",
    "def pdf_to_string(file_path):\n",
    "    pdf_document = pymupdf.open(file_path)\n",
    "    text = \"\"\n",
    "    for page_num in range(pdf_document.page_count):\n",
    "        page = pdf_document[page_num]\n",
    "        text += page.get_text()\n",
    "    pdf_document.close()\n",
    "    return text\n",
    "\n",
    "\n",
    "def display_header(text):\n",
    "    display(Markdown(f'**{text}**'))\n",
    "\n",
    "def display_content(text):\n",
    "    display(Markdown(f'```\\n{text}\\n```'))\n",
    "\n",
    "def llamacpp_with_character_level_parser(llm: Llama, prompt: str, character_level_parser: Optional[CharacterLevelParser]) -> str:\n",
    "    logits_processors: Optional[LogitsProcessorList] = None\n",
    "    if character_level_parser:\n",
    "        logits_processors = LogitsProcessorList([build_llamacpp_logits_processor(llm, character_level_parser)])\n",
    "    \n",
    "    output = llm(prompt, logits_processor=logits_processors, max_tokens=1000)\n",
    "    text: str = output['choices'][0]['text']\n",
    "    return text\n",
    "\n",
    "downloaded_model_path = hf_hub_download(repo_id=\"bartowski/Meta-Llama-3.1-8B-Instruct-GGUF\", filename=\"Meta-Llama-3.1-8B-Instruct-Q6_K_L.gguf\") \n",
    "llm = Llama(model_path=downloaded_model_path, n_ctx=16384, n_threads=8, n_gpu_layers=-1, verbose=False, temperature=0)"
   ]
  },
  {
   "cell_type": "code",
   "execution_count": 4,
   "metadata": {},
   "outputs": [],
   "source": [
    "def download_pdf(url, destination_path):\n",
    "    try:\n",
    "        response = requests.get(url, headers={\"Referer\": \"https://www.zvg-portal.de/index.php?button=Suchen\"}, stream=True)\n",
    "        response.raise_for_status()\n",
    "        if 'application/pdf' not in response.headers.get('Content-Type', ''):\n",
    "            raise Exception(\"The URL does not point to a valid PDF file.\")\n",
    "\n",
    "        with open(destination_path, 'wb') as pdf_file:\n",
    "            for chunk in response.iter_content(chunk_size=1024):\n",
    "                if chunk: \n",
    "                    pdf_file.write(chunk)\n",
    "\n",
    "        return True\n",
    "    except Exception as e:\n",
    "        return False"
   ]
  },
  {
   "cell_type": "code",
   "execution_count": 5,
   "metadata": {},
   "outputs": [
    {
     "name": "stdout",
     "output_type": "stream",
     "text": [
      "2597\n",
      "Error processing foreclosure case ID https://www.zvg-portal.de/index.php?button=showZvg&zvg_id=52907&land_abk=he: 1 validation error for ForclosureModel\n",
      "  Invalid JSON: EOF while parsing a string at line 1 column 2301 [type=json_invalid, input_value='  { \"objekte\": [ { \"flae...l, \"raum_typen\": [], \"b', input_type=str]\n",
      "    For further information visit https://errors.pydantic.dev/2.9/v/json_invalid\n",
      "4360\n",
      "Error processing foreclosure case ID https://www.zvg-portal.de/index.php?button=showZvg&zvg_id=2117&land_abk=rp: 1 validation error for ForclosureModel\n",
      "  Invalid JSON: EOF while parsing an object at line 3 column 2361 [type=json_invalid, input_value=' \\n\\n{ \"objekte\": [ { \"r...430 }, { \"raeume\": null', input_type=str]\n",
      "    For further information visit https://errors.pydantic.dev/2.9/v/json_invalid\n"
     ]
    }
   ],
   "source": [
    "with open(\"../experiments/examples/5shot.txt\", \"r\", encoding=\"UTF-8\") as file:\n",
    "    examples = file.read()\n",
    "\n",
    "valid_idx = 0\n",
    "all_forclosures = session.query(ForeclosureCaseSchema).all()\n",
    "for idx, foreclosure_case in enumerate(all_forclosures):\n",
    "    \n",
    "    if idx < 4700 and not idx in [2597, 4360]:\n",
    "        continue\n",
    "    \n",
    "    print(idx)\n",
    "    if session.query(ForeclosureObjectSchema).filter_by(foreclosurecase_link = foreclosure_case.link).first() or not foreclosure_case.amtliche_bekanntmachung:\n",
    "        continue\n",
    "\n",
    "    with tempfile.TemporaryDirectory() as tmp_dir:\n",
    "        try:\n",
    "            pdf_path = os.path.join(tmp_dir, \"amtliche_bekanntmachung.pdf\")\n",
    "            amtliche_bekanntmachung_link = f\"https://www.zvg-portal.de/index.php{foreclosure_case.amtliche_bekanntmachung}\"\n",
    "            if not download_pdf(amtliche_bekanntmachung_link, pdf_path):\n",
    "                continue\n",
    "            pdf_text = pdf_to_string(pdf_path)\n",
    "            \n",
    "            question_with_schema = (\n",
    "                f\"The following text lists examples for your task: {examples}.\\n\"\n",
    "                f\"You MUST answer using the following JSON schema: {ForclosureModel.model_json_schema()}.\\n\"\n",
    "                f\"Please extract information about the following PDF content: {pdf_text}.\"\n",
    "            )\n",
    "            prompt = get_prompt(question_with_schema)\n",
    "            result = llamacpp_with_character_level_parser(\n",
    "                llm, prompt, JsonSchemaParser(ForclosureModel.model_json_schema())\n",
    "            )\n",
    "\n",
    "            if not result:\n",
    "                continue\n",
    "            \n",
    "            foreclosure_data = ForclosureModel.model_validate_json(result.replace(\"\\r\\n\", \"\\n\"))\n",
    "            foreclosure_case.verkehrswert = foreclosure_data.gesamtverkehrswert\n",
    "            \n",
    "            for obj in foreclosure_data.objekte:\n",
    "                obj_dict = obj.model_dump()\n",
    "                obj_dict['raum_typen'] =\",\".join(obj.raum_typen)\n",
    "                obj_data = ForeclosureObjectSchema(\n",
    "                    foreclosurecase_link = foreclosure_case.link,\n",
    "                    **obj_dict\n",
    "                )\n",
    "                session.add(obj_data)\n",
    "                \n",
    "            session.commit()\n",
    "            valid_idx += 1\n",
    "            if valid_idx % 10 == 0:\n",
    "                print(f\"Processed: {idx} Valid: {valid_idx} Overall: {len(all_forclosures)}\")  \n",
    "                \n",
    "        except Exception as e:\n",
    "            print(f\"Error processing foreclosure case ID {foreclosure_case.link}: {e}\")\n",
    "            session.rollback()"
   ]
  },
  {
   "cell_type": "code",
   "execution_count": 6,
   "metadata": {},
   "outputs": [],
   "source": [
    "session.close()\n",
    "engine.dispose()\n",
    "llm.close()"
   ]
  }
 ],
 "metadata": {
  "kernelspec": {
   "display_name": ".venv",
   "language": "python",
   "name": "python3"
  },
  "language_info": {
   "codemirror_mode": {
    "name": "ipython",
    "version": 3
   },
   "file_extension": ".py",
   "mimetype": "text/x-python",
   "name": "python",
   "nbconvert_exporter": "python",
   "pygments_lexer": "ipython3",
   "version": "3.12.6"
  }
 },
 "nbformat": 4,
 "nbformat_minor": 2
}
